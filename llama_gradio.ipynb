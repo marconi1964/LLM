{
 "cells": [
  {
   "cell_type": "code",
   "execution_count": null,
   "metadata": {},
   "outputs": [],
   "source": [
    "# version 2 (final version) - 修改 gradio介面, 累積提問與回答\n",
    "\n",
    "# pip3 install langchain_ollama gradio pypdf chromadb\n",
    "# ollama pull nomic-embed-text\n",
    "\n",
    "# pip3 pip install ipywidgets\n",
    "# jupyter nbextension enable --py widgetsnbextension\n",
    "# pip3 install -U langchain-ollama"
   ]
  },
  {
   "cell_type": "code",
   "execution_count": 23,
   "metadata": {},
   "outputs": [],
   "source": [
    "import os, sys\n",
    "sys.path.append('.')\n",
    "\n",
    "from langchain_ollama import OllamaLLM\n",
    "import gradio as gr\n",
    "\n",
    "# 初始化一個全局的問答歷史列表\n",
    "chat_history = []\n",
    "\n",
    "# Ollama 聊天模型函數\n",
    "def ollama_llm(question):\n",
    "    formatted_prompt = f\"總是用繁體中文回答！\\n\\nQuestion: {question}\"\n",
    "    llm = OllamaLLM(model=\"llama3.1:70b\", base_url=\"http://localhost:11434\")\n",
    "    \n",
    "    try:\n",
    "        response = llm.generate(prompts=[formatted_prompt])\n",
    "        return response.generations[0][0].text\n",
    "    except Exception as e:\n",
    "        return f\"An error occurred: {str(e)}\"\n",
    "\n",
    "# Gradio 的主邏輯函數，用於處理問題並更新聊天歷史\n",
    "def get_important_facts(question):\n",
    "    # 獲取模型回答\n",
    "    answer = ollama_llm(question)\n",
    "    \n",
    "    # 更新聊天歷史\n",
    "    chat_history.append((question, answer))\n",
    "    \n",
    "    # 將所有聊天歷史格式化成單一字符串，顯示於輸出\n",
    "    chat_output = \"\"\n",
    "    for q, a in chat_history:\n",
    "        chat_output += f\"**問題**: {q}\\n\\n**回答**: {a}\\n\\n\"\n",
    "    \n",
    "    return chat_output\n",
    "\n",
    "# 創建 Gradio 應用介面\n",
    "iface = gr.Interface(\n",
    "  fn=get_important_facts,\n",
    "  inputs=gr.Textbox(lines=2, placeholder=\"請輸入您的問題\"),\n",
    "  outputs=\"markdown\",  # 使用 markdown 格式顯示聊天歷史\n",
    "  title=\"Ollama Chat\",\n",
    "  description=\"使用 Llama3 模型進行問答，顯示完整對話歷史\",\n",
    ")\n",
    "\n",
    "# 啟動 Gradio 應用\n",
    "iface.launch()\n"
   ]
  }
 ],
 "metadata": {
  "kernelspec": {
   "display_name": "Python 3 (ipykernel)",
   "language": "python",
   "name": "python3"
  },
  "language_info": {
   "codemirror_mode": {
    "name": "ipython",
    "version": 3
   },
   "file_extension": ".py",
   "mimetype": "text/x-python",
   "name": "python",
   "nbconvert_exporter": "python",
   "pygments_lexer": "ipython3",
   "version": "3.11.4"
  }
 },
 "nbformat": 4,
 "nbformat_minor": 4
}
