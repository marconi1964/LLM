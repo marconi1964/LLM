{
 "cells": [
  {
   "cell_type": "code",
   "execution_count": null,
   "metadata": {},
   "outputs": [],
   "source": [
    "# version 5 (final version) - gradio 設定累積歷史提問與答案\n",
    "\n",
    "# pip3 install langchain_ollama gradio pypdf chromadb\n",
    "# ollama pull nomic-embed-text\n",
    "\n",
    "# pip3 pip install ipywidgets\n",
    "# jupyter nbextension enable --py widgetsnbextension\n",
    "# pip3 install -U langchain-ollama"
   ]
  },
  {
   "cell_type": "code",
   "execution_count": 23,
   "metadata": {},
   "outputs": [],
   "source": [
    "import os, sys\n",
    "sys.path.append('.')\n",
    "\n",
    "from langchain_ollama import OllamaLLM\n",
    "import gradio as gr\n",
    "\n",
    "# 只使用 Ollama 模型進行問答\n",
    "def ollama_llm(question):\n",
    "    formatted_prompt = f\"總是用繁體中文回答！\\n\\nQuestion: {question}\"\n",
    "    llm = OllamaLLM(model=\"llama3.1:70b\", base_url=\"http://localhost:11434\")\n",
    "    \n",
    "    try:\n",
    "        response = llm.generate(prompts=[formatted_prompt])\n",
    "        return response.generations[0][0].text\n",
    "    except Exception as e:\n",
    "        return f\"An error occurred: {str(e)}\"\n",
    "\n",
    "# 定義 Gradio 介面\n",
    "def get_important_facts(question):\n",
    "    return ollama_llm(question)\n",
    "\n",
    "# 創建 Gradio 應用介面\n",
    "iface = gr.Interface(\n",
    "  fn=get_important_facts,\n",
    "  inputs=gr.Textbox(lines=2, placeholder=\"請輸入您的問題\"),\n",
    "  outputs=\"text\",\n",
    "  title=\"Ollama Chat\",\n",
    "  description=\"使用 Llama3 模型直接回答您的問題\",\n",
    ")\n",
    "\n",
    "# 啟動 Gradio 應用\n",
    "iface.launch()"
   ]
  }
 ],
 "metadata": {
  "kernelspec": {
   "display_name": "Python 3 (ipykernel)",
   "language": "python",
   "name": "python3"
  },
  "language_info": {
   "codemirror_mode": {
    "name": "ipython",
    "version": 3
   },
   "file_extension": ".py",
   "mimetype": "text/x-python",
   "name": "python",
   "nbconvert_exporter": "python",
   "pygments_lexer": "ipython3",
   "version": "3.11.4"
  }
 },
 "nbformat": 4,
 "nbformat_minor": 4
}
