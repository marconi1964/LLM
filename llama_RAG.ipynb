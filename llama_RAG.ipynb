{
 "cells": [
  {
   "cell_type": "code",
   "execution_count": null,
   "metadata": {},
   "outputs": [],
   "source": [
    "# Version 1 - original from Facebook 資料科學小嫩嫩 的派大 Patrick Juan"
   ]
  },
  {
   "cell_type": "code",
   "execution_count": 23,
   "metadata": {},
   "outputs": [],
   "source": [
    "import os, sys\n",
    "\n",
    "sys.path.append('.')\n",
    "\n",
    "from langchain.llms import Ollama\n",
    "\n",
    "model=\"llama2:70b\"\n",
    "client = Ollama(base_url=\"http://localhost:11434\", model=model)"
   ]
  },
  {
   "cell_type": "code",
   "execution_count": 24,
   "metadata": {},
   "outputs": [],
   "source": [
    "# pip3 install gradio pypdf chromadb\n",
    "# ollama pull nomic-embed-text"
   ]
  },
  {
   "cell_type": "code",
   "execution_count": 25,
   "metadata": {},
   "outputs": [],
   "source": [
    "import gradio as gr\n",
    "#import ollama\n",
    "#from bs4 import BeautifulSoup as bs\n",
    "from langchain.text_splitter import RecursiveCharacterTextSplitter\n",
    "from langchain_community.document_loaders import WebBaseLoader\n",
    "from langchain_community.vectorstores import Chroma\n",
    "from langchain_community.embeddings import OllamaEmbeddings\n",
    "'''\n",
    "# Load the data from the web URL\n",
    "url = 'https://en.wikipedia.org/wiki/Ohiya'\n",
    "loader = WebBaseLoader(url)\n",
    "docs = loader.load()\n",
    "'''\n",
    "from langchain_community.document_loaders import PyPDFLoader\n",
    "file_path = './50_Years_of_AI.pdf'\n",
    "loader = PyPDFLoader(file_path)\n",
    "docs = []\n",
    "async for page in loader.alazy_load():\n",
    "    docs.append(page)\n"
   ]
  },
  {
   "cell_type": "code",
   "execution_count": 26,
   "metadata": {},
   "outputs": [],
   "source": [
    "# Split the loaded documents into chunks\n",
    "text_splitter = RecursiveCharacterTextSplitter(chunk_size=1000, chunk_overlap=200)\n",
    "splits = text_splitter.split_documents(docs)"
   ]
  },
  {
   "cell_type": "code",
   "execution_count": 27,
   "metadata": {},
   "outputs": [],
   "source": [
    "# Create Ollama embeddings and vector store\n",
    "embeddings = OllamaEmbeddings(model=\"nomic-embed-text\")\n",
    "vectorstore = Chroma.from_documents(documents=splits, embedding=embeddings)\n"
   ]
  },
  {
   "cell_type": "code",
   "execution_count": 30,
   "metadata": {},
   "outputs": [
    {
     "name": "stdout",
     "output_type": "stream",
     "text": [
      "* Running on local URL:  http://127.0.0.1:7862\n",
      "\n",
      "To create a public link, set `share=True` in `launch()`.\n"
     ]
    },
    {
     "data": {
      "text/html": [
       "<div><iframe src=\"http://127.0.0.1:7862/\" width=\"100%\" height=\"500\" allow=\"autoplay; camera; microphone; clipboard-read; clipboard-write;\" frameborder=\"0\" allowfullscreen></iframe></div>"
      ],
      "text/plain": [
       "<IPython.core.display.HTML object>"
      ]
     },
     "metadata": {},
     "output_type": "display_data"
    },
    {
     "data": {
      "text/plain": []
     },
     "execution_count": 30,
     "metadata": {},
     "output_type": "execute_result"
    }
   ],
   "source": [
    "# Define the function to call the Ollama Llama3 model\n",
    "def ollama_llm(question, context):\n",
    "    formatted_prompt = f\"Question: {question}\\n\\nContext: {context}\"\n",
    "#     response = client.chat.completions.create(model=model, messages=[{'role': 'system', 'content': '總是用繁體中文回答！'}, {'role': 'user', 'content': formatted_prompt}])\n",
    "    response = Ollama.chat(\n",
    "        model=model,  # Specify the model name\n",
    "        messages=[\n",
    "            {'role': 'system', 'content': '總是用繁體中文回答！'},\n",
    "            {'role': 'user', 'content': formatted_prompt}\n",
    "        ]\n",
    "    )\n",
    "#    return response.choices[0].message.content\n",
    "    return response['content']\n",
    "\n",
    "\n",
    "# Define the RAG setup\n",
    "retriever = vectorstore.as_retriever()\n",
    "\n",
    "def rag_chain(question):\n",
    "    retrieved_docs = retriever.invoke(question)\n",
    "    formatted_context = \"\\n\\n\".join(doc.page_content for doc in retrieved_docs)\n",
    "    return ollama_llm(question, formatted_context)\n",
    "\n",
    "# Define the Gradio interface\n",
    "def get_important_facts(question):\n",
    "    return rag_chain(question)\n",
    "\n",
    "# Create a Gradio app interface\n",
    "iface = gr.Interface(\n",
    "  fn=get_important_facts,\n",
    "  inputs=gr.Textbox(lines=2, placeholder=\"Please summarize in 500 words\"),\n",
    "  outputs=\"text\",\n",
    "  title=\"RAG with Llama3\",\n",
    "  description=\"Ask questions about the proveded context\",\n",
    ")\n",
    "\n",
    "# Launch the Gradio app\n",
    "iface.launch()\n"
   ]
  },
  {
   "cell_type": "code",
   "execution_count": 31,
   "metadata": {},
   "outputs": [
    {
     "name": "stdout",
     "output_type": "stream",
     "text": [
      "chromadb installed and loaded successfully\n"
     ]
    }
   ],
   "source": [
    "import chromadb\n",
    "print(\"chromadb installed and loaded successfully\")\n"
   ]
  }
 ],
 "metadata": {
  "kernelspec": {
   "display_name": "Python 3 (ipykernel)",
   "language": "python",
   "name": "python3"
  },
  "language_info": {
   "codemirror_mode": {
    "name": "ipython",
    "version": 3
   },
   "file_extension": ".py",
   "mimetype": "text/x-python",
   "name": "python",
   "nbconvert_exporter": "python",
   "pygments_lexer": "ipython3",
   "version": "3.11.4"
  }
 },
 "nbformat": 4,
 "nbformat_minor": 4
}
